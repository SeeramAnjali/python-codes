{
  "nbformat": 4,
  "nbformat_minor": 0,
  "metadata": {
    "colab": {
      "provenance": [],
      "authorship_tag": "ABX9TyOZcSpw/WB9ElQByF7UHZ/V",
      "include_colab_link": true
    },
    "kernelspec": {
      "name": "python3",
      "display_name": "Python 3"
    },
    "language_info": {
      "name": "python"
    }
  },
  "cells": [
    {
      "cell_type": "markdown",
      "metadata": {
        "id": "view-in-github",
        "colab_type": "text"
      },
      "source": [
        "<a href=\"https://colab.research.google.com/github/SeeramAnjali/python-codes/blob/main/programs.ipynb\" target=\"_parent\"><img src=\"https://colab.research.google.com/assets/colab-badge.svg\" alt=\"Open In Colab\"/></a>"
      ]
    },
    {
      "cell_type": "code",
      "execution_count": 2,
      "metadata": {
        "colab": {
          "base_uri": "https://localhost:8080/"
        },
        "id": "UUP8pshsVdse",
        "outputId": "3189dbb2-a78a-44cb-fac8-ab79f0cafbe7"
      },
      "outputs": [
        {
          "output_type": "stream",
          "name": "stdout",
          "text": [
            "200\n",
            "540\n",
            "tw: 130\n",
            "fw: 70\n"
          ]
        }
      ],
      "source": [
        "v=int(input())\n",
        "w=int(input())\n",
        "if v<w and 2<=0 and w%2==0:\n",
        "    print(\"invaid\")\n",
        "else:\n",
        "    s=((4*v)-w)//2\n",
        "    print(\"tw:\",s)\n",
        "    print(\"fw:\",v-s)"
      ]
    },
    {
      "cell_type": "code",
      "source": [
        "def food_required(r,unit,arr):\n",
        "\n",
        "    total_food_needed=(r*unit)\n",
        "    current_food=0\n",
        "    for i in range (len(arr)):\n",
        "        current_food+=arr[i]\n",
        "        if (current_food>=total_food_needed):\n",
        "            return i+1\n",
        "\n",
        "    return 0\n",
        "r=int(input())\n",
        "unit=int(input())\n",
        "arr=[2,8,3,5,7,4,1,2]\n",
        "print(food_required(r,unit,arr))"
      ],
      "metadata": {
        "colab": {
          "base_uri": "https://localhost:8080/"
        },
        "id": "q3x6mKYoWWC2",
        "outputId": "6eb773af-bd05-4bc5-8125-cf3f4cca553f"
      },
      "execution_count": 4,
      "outputs": [
        {
          "output_type": "stream",
          "name": "stdout",
          "text": [
            "7\n",
            "2\n",
            "4\n"
          ]
        }
      ]
    }
  ]
}