{
  "nbformat": 4,
  "nbformat_minor": 0,
  "metadata": {
    "colab": {
      "provenance": [],
      "authorship_tag": "ABX9TyOGSJjJG4DE7r8htkIX6nYh",
      "include_colab_link": true
    },
    "kernelspec": {
      "name": "python3",
      "display_name": "Python 3"
    },
    "language_info": {
      "name": "python"
    }
  },
  "cells": [
    {
      "cell_type": "markdown",
      "metadata": {
        "id": "view-in-github",
        "colab_type": "text"
      },
      "source": [
        "<a href=\"https://colab.research.google.com/github/SeeramAnjali/python-codes/blob/main/Accenture_codes.ipynb\" target=\"_parent\"><img src=\"https://colab.research.google.com/assets/colab-badge.svg\" alt=\"Open In Colab\"/></a>"
      ]
    },
    {
      "cell_type": "code",
      "execution_count": null,
      "metadata": {
        "colab": {
          "base_uri": "https://localhost:8080/"
        },
        "id": "gKemBkTBApoB",
        "outputId": "da3bb484-fffc-45ac-9b81-563183c1c386"
      },
      "outputs": [
        {
          "output_type": "stream",
          "name": "stdout",
          "text": [
            "1C1B1C0\n",
            "1\n"
          ]
        }
      ],
      "source": [
        "def OperationBinaryString(str):\n",
        "    ans=ord(str[0])-ord('0')\n",
        "    for i in range(1,len(str),2):\n",
        "        j=i+1\n",
        "        if (str[i]=='A'):\n",
        "            ans=ans&(ord(str[j])-ord('0'))\n",
        "        elif(str[i]=='B'):\n",
        "            ans=ans|(ord(str[j])-ord('0'))\n",
        "        elif(str[i]=='C'):\n",
        "            ans=ans^(ord(str[j])-ord('0'))\n",
        "    return ans\n",
        "str=input()\n",
        "print (OperationBinaryString(str))"
      ]
    },
    {
      "cell_type": "markdown",
      "source": [
        "\n",
        "\n",
        "> Automorphic number\n",
        "\n"
      ],
      "metadata": {
        "id": "dSa3px75x1nN"
      }
    },
    {
      "cell_type": "code",
      "source": [
        "n=int(input())\n",
        "m=n*n\n",
        "num=m%10\n",
        "if num==n:\n",
        "  print(\"automorphic\")\n",
        "else:\n",
        "  print(\"not automorphic\")"
      ],
      "metadata": {
        "id": "cOhw4s6ryCrO",
        "colab": {
          "base_uri": "https://localhost:8080/"
        },
        "outputId": "1d642405-b193-479a-ab21-8d6bcd80532c"
      },
      "execution_count": null,
      "outputs": [
        {
          "output_type": "stream",
          "name": "stdout",
          "text": [
            "123\n",
            "not automorphic\n"
          ]
        }
      ]
    },
    {
      "cell_type": "markdown",
      "source": [
        "Abundant number\n"
      ],
      "metadata": {
        "id": "2Andg96Izp2t"
      }
    },
    {
      "cell_type": "code",
      "source": [
        "n=int(input())\n",
        "sum=0\n",
        "for i in range(1,n):\n",
        "  if n%i==0:\n",
        "    sum=sum+i\n",
        "if sum>n:\n",
        "  print(\"abundant number\")\n",
        "else:\n",
        "  print(\"not abundant number\")"
      ],
      "metadata": {
        "id": "TPDK3KHezu1c"
      },
      "execution_count": null,
      "outputs": []
    },
    {
      "cell_type": "code",
      "source": [
        "def Average(s):\n",
        "  n=len(s)\n",
        "  sum=0\n",
        "  for i in s:\n",
        "    sum=sum+ord(i)\n",
        "  avg=sum/n\n",
        "  return avg\n",
        "s=input()\n",
        "temp=Average(s)\n",
        "rounded_number=format(temp,\".2f\")\n",
        "print(rounded_number)\n"
      ],
      "metadata": {
        "colab": {
          "base_uri": "https://localhost:8080/"
        },
        "id": "oUNXXLvIDcM5",
        "outputId": "c86cd7c6-0ff0-4dd3-87e6-78c5bb604eac"
      },
      "execution_count": null,
      "outputs": [
        {
          "output_type": "stream",
          "name": "stdout",
          "text": [
            "asp\n",
            "108.00\n"
          ]
        }
      ]
    },
    {
      "cell_type": "code",
      "source": [
        "def ConvertToPalindrome(l):\n",
        "\n",
        "  le=len(l)\n",
        "  for i in range(le):\n",
        "    le=len(l)\n",
        "    if l[i]!=l[le-i-1]:\n",
        "      l.insert(le-i,l[i])\n",
        "    else:\n",
        "        break\n",
        "    s=\"\".join(l)\n",
        "    if s==s[::-1]:\n",
        "        s=s.replace(s1,\"\")\n",
        "  return s\n",
        "s1=input().strip()\n",
        "l=list(s1)\n",
        "print(ConvertToPalindrome(l))"
      ],
      "metadata": {
        "colab": {
          "base_uri": "https://localhost:8080/"
        },
        "id": "1w-Ta7YAPNaS",
        "outputId": "b313e57a-e7d4-4202-ad68-1b6214a9de5f"
      },
      "execution_count": null,
      "outputs": [
        {
          "output_type": "stream",
          "name": "stdout",
          "text": [
            "abcd\n",
            "cba\n"
          ]
        }
      ]
    },
    {
      "cell_type": "markdown",
      "source": [
        "#harshad number\n",
        "For the given value n = 21:\n",
        "\n",
        "The sum of the digits of 21 is calculated:\n",
        "2 + 1 = 3\n",
        "The original number p (which is 21) is then checked to see if it is divisible by 3:\n",
        "21 % 3 == 0, so 21 is a Harshad number\n"
      ],
      "metadata": {
        "id": "dARzUo9t_UYt"
      }
    },
    {
      "cell_type": "code",
      "source": [
        "n=21\n",
        "p=n\n",
        "sum=0\n",
        "while(n>0):\n",
        "    sum+=n%10\n",
        "    n//=10\n",
        "if(p%sum==0):\n",
        "    print(\"harshad number\")\n",
        "else:\n",
        "    print(\"not a harshad number\")"
      ],
      "metadata": {
        "colab": {
          "base_uri": "https://localhost:8080/"
        },
        "id": "qTe281aQ_swg",
        "outputId": "91aa3347-06df-468e-82c7-f30943fb04b2"
      },
      "execution_count": null,
      "outputs": [
        {
          "output_type": "stream",
          "name": "stdout",
          "text": [
            "harshad number\n"
          ]
        }
      ]
    },
    {
      "cell_type": "markdown",
      "source": [
        "#Abundant number\n",
        "(a number that is smaller than the sum of all its factors except the number itself)\n",
        "ex:12\n",
        " factors of (1+2+3+4+6)=16>12"
      ],
      "metadata": {
        "id": "V6H6OTdCAJmp"
      }
    },
    {
      "cell_type": "code",
      "source": [
        "n=12\n",
        "sum=1\n",
        "for i in range(2,n):\n",
        "    if(n%i==0):\n",
        "        sum=sum+i\n",
        "if(sum>n):\n",
        "    print(n,\"is abundant number\")\n",
        "else:\n",
        "    print(n,\"is not abundant number\")"
      ],
      "metadata": {
        "colab": {
          "base_uri": "https://localhost:8080/"
        },
        "id": "3fkBleudAOtu",
        "outputId": "3e370e02-b6ff-438a-8c1b-d9ced7610439"
      },
      "execution_count": null,
      "outputs": [
        {
          "output_type": "stream",
          "name": "stdout",
          "text": [
            "12 is abundant number\n"
          ]
        }
      ]
    },
    {
      "cell_type": "markdown",
      "source": [
        "#perfect number\n",
        "input : 28\n",
        "\n",
        "Divisors : [1, 2, 4, 7, 14]\n",
        "\n",
        "\n",
        "Sum = 1 + 2 + 4 + 7 + 14 = 28\n",
        "Output : It's a Perfect Number"
      ],
      "metadata": {
        "id": "6iiLx9BiAbpG"
      }
    },
    {
      "cell_type": "code",
      "source": [
        "num=28\n",
        "sum=0\n",
        "for i in range(1,num):\n",
        "    if num%i==0:\n",
        "\n",
        "      sum=sum+i\n",
        "if sum==num:\n",
        "\n",
        "  print(num,\"is a perfect number\")\n",
        "else:\n",
        "    print(num,\"is not a perfect number\")"
      ],
      "metadata": {
        "colab": {
          "base_uri": "https://localhost:8080/"
        },
        "id": "zFhwG8GZA0Tq",
        "outputId": "113abd0c-6f6a-482c-ad7a-6e7926e54c36"
      },
      "execution_count": null,
      "outputs": [
        {
          "output_type": "stream",
          "name": "stdout",
          "text": [
            "28 is a perfect number\n"
          ]
        }
      ]
    }
  ]
}