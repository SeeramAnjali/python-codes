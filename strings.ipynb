{
  "nbformat": 4,
  "nbformat_minor": 0,
  "metadata": {
    "colab": {
      "provenance": [],
      "authorship_tag": "ABX9TyMyLjySlC+4g/hCYH32fhib",
      "include_colab_link": true
    },
    "kernelspec": {
      "name": "python3",
      "display_name": "Python 3"
    },
    "language_info": {
      "name": "python"
    }
  },
  "cells": [
    {
      "cell_type": "markdown",
      "metadata": {
        "id": "view-in-github",
        "colab_type": "text"
      },
      "source": [
        "<a href=\"https://colab.research.google.com/github/SeeramAnjali/python-codes/blob/main/strings.ipynb\" target=\"_parent\"><img src=\"https://colab.research.google.com/assets/colab-badge.svg\" alt=\"Open In Colab\"/></a>"
      ]
    },
    {
      "cell_type": "markdown",
      "source": [
        "#count of vowels and consonants"
      ],
      "metadata": {
        "id": "ybl7jsFO7MCc"
      }
    },
    {
      "cell_type": "code",
      "source": [
        "char=input()\n",
        "v=0\n",
        "c=0\n",
        "for i in char:\n",
        "  if(i=='a' or i=='e' or i=='i' or i=='o' or i=='u'):\n",
        "    v+=1\n",
        "  else:\n",
        "    c+=1\n",
        "print(v)\n",
        "print(c)\n"
      ],
      "metadata": {
        "colab": {
          "base_uri": "https://localhost:8080/"
        },
        "id": "07orJfLK7Uic",
        "outputId": "c2c21aa1-f64d-4f82-c0e6-73b62dff39d0"
      },
      "execution_count": 7,
      "outputs": [
        {
          "output_type": "stream",
          "name": "stdout",
          "text": [
            "anjali\n",
            "3\n",
            "3\n"
          ]
        }
      ]
    },
    {
      "cell_type": "markdown",
      "source": [
        "#alphabet or not\n",
        "a-z(97-122)ascii values\n",
        "A-Z(65-90)ascii values"
      ],
      "metadata": {
        "id": "-dIYBg8j_Ghx"
      }
    },
    {
      "cell_type": "code",
      "source": [
        "ch=input()\n",
        "if 'a'<=ch<='z' or 'A'<=ch<='Z':\n",
        "  print('alphabet')\n",
        "else:\n",
        "  print('not alphabet')"
      ],
      "metadata": {
        "colab": {
          "base_uri": "https://localhost:8080/"
        },
        "id": "a4YH_7DP_LUT",
        "outputId": "739e9fb7-472f-4c1d-fa06-ef3de73f4d4b"
      },
      "execution_count": 8,
      "outputs": [
        {
          "output_type": "stream",
          "name": "stdout",
          "text": [
            "AnJalI\n",
            "alphabet\n"
          ]
        }
      ]
    },
    {
      "cell_type": "markdown",
      "source": [
        "#ascii values\n",
        "we use \"ord\" to follow the alphabetical order"
      ],
      "metadata": {
        "id": "R4D31cEYBH77"
      }
    },
    {
      "cell_type": "code",
      "source": [
        "a=input()\n",
        "b=ord(a)\n",
        "print(b)"
      ],
      "metadata": {
        "colab": {
          "base_uri": "https://localhost:8080/"
        },
        "id": "Ug-1cPCoAoxM",
        "outputId": "ed22a529-4e85-4eb3-b46d-3e7c3a636be1"
      },
      "execution_count": 9,
      "outputs": [
        {
          "output_type": "stream",
          "name": "stdout",
          "text": [
            "@\n",
            "64\n"
          ]
        }
      ]
    },
    {
      "cell_type": "markdown",
      "source": [
        "#length of string\n"
      ],
      "metadata": {
        "id": "RclVx8WWClpr"
      }
    },
    {
      "cell_type": "code",
      "source": [
        "S=input()\n",
        "l=0\n",
        "for i in S:\n",
        "  l+=1\n",
        "print(l)"
      ],
      "metadata": {
        "colab": {
          "base_uri": "https://localhost:8080/"
        },
        "id": "gcSkISqOBnDx",
        "outputId": "6aae3b4d-6555-4b6b-f71e-b1a32c77a44d"
      },
      "execution_count": 13,
      "outputs": [
        {
          "output_type": "stream",
          "name": "stdout",
          "text": [
            "aaaaaaaaaaaaaaaaaaaaaaaaaaaaaaaaaaaaaaa\n",
            "39\n"
          ]
        }
      ]
    },
    {
      "cell_type": "code",
      "source": [],
      "metadata": {
        "id": "AgcNowRSDTs0"
      },
      "execution_count": null,
      "outputs": []
    },
    {
      "cell_type": "code",
      "source": [
        "a=[1,4,3]\n",
        "a.sort()\n",
        "print(a)"
      ],
      "metadata": {
        "colab": {
          "base_uri": "https://localhost:8080/"
        },
        "id": "3_ALnmfkB-u6",
        "outputId": "5157048e-3319-4ebd-b345-f3ad1834337c"
      },
      "execution_count": 11,
      "outputs": [
        {
          "output_type": "stream",
          "name": "stdout",
          "text": [
            "[1, 3, 4]\n"
          ]
        }
      ]
    },
    {
      "cell_type": "code",
      "source": [
        "a=[1,93,56,3]\n",
        "a=sorted(a)\n",
        "print(a)"
      ],
      "metadata": {
        "colab": {
          "base_uri": "https://localhost:8080/"
        },
        "id": "1CeKsErzCKO6",
        "outputId": "cd0a9853-e534-49c7-9b57-3e863bfcfbbd"
      },
      "execution_count": 12,
      "outputs": [
        {
          "output_type": "stream",
          "name": "stdout",
          "text": [
            "[1, 3, 56, 93]\n"
          ]
        }
      ]
    },
    {
      "cell_type": "code",
      "source": [
        "str=input()\n",
        "str=\"\"\n",
        "for i in str:\n",
        "  if i is isupper():\n",
        "    i=i.lower()\n",
        "    str+=i\n",
        "  else:\n",
        "    i=i.upper()\n",
        "    str+=i\n",
        "print(str)\n",
        "\n",
        "\n"
      ],
      "metadata": {
        "colab": {
          "base_uri": "https://localhost:8080/"
        },
        "id": "WpKY_G5pDVCI",
        "outputId": "eba72978-b1a0-4a84-b89e-60f5cf976131"
      },
      "execution_count": 16,
      "outputs": [
        {
          "output_type": "stream",
          "name": "stdout",
          "text": [
            "AnjaLI\n",
            "\n"
          ]
        }
      ]
    },
    {
      "cell_type": "markdown",
      "source": [
        "#uppercase to lowercase"
      ],
      "metadata": {
        "id": "EDQ_skYqFcm0"
      }
    },
    {
      "cell_type": "code",
      "source": [
        "str=input()\n",
        "str=str.swapcase()\n",
        "print(str)"
      ],
      "metadata": {
        "colab": {
          "base_uri": "https://localhost:8080/"
        },
        "id": "hGId1lCEE5hg",
        "outputId": "d2a00aab-93e5-4122-d8e2-52af9bb4ab80"
      },
      "execution_count": 17,
      "outputs": [
        {
          "output_type": "stream",
          "name": "stdout",
          "text": [
            "ANJali\n",
            "anjALI\n"
          ]
        }
      ]
    },
    {
      "cell_type": "code",
      "source": [
        "str_input = input()\n",
        "words = str_input.split()\n",
        "cap_words = []\n",
        "\n",
        "for word in words:\n",
        "    if len(word) > 1:\n",
        "        # Capitalize the first letter and add the rest of the word as is\n",
        "        new_word = word[0].upper() + word[1:].lower()\n",
        "    else:\n",
        "        # If the word is just one character, capitalize it\n",
        "        new_word = word.upper()\n",
        "\n",
        "    cap_words.append(new_word)\n",
        "\n",
        "# Join the modified words with underscores\n",
        "result = ' '.join(cap_words)\n",
        "print(result)\n"
      ],
      "metadata": {
        "colab": {
          "base_uri": "https://localhost:8080/"
        },
        "id": "unpizCj6JWpI",
        "outputId": "75123592-2860-4a7b-a90a-d2d4eb5de28f"
      },
      "execution_count": 23,
      "outputs": [
        {
          "output_type": "stream",
          "name": "stdout",
          "text": [
            "creak a creak\n",
            "Creak A Creak\n"
          ]
        }
      ]
    },
    {
      "cell_type": "markdown",
      "source": [
        "#reverse a word\n",
        "\n"
      ],
      "metadata": {
        "id": "qZ8sqYmuKHHj"
      }
    },
    {
      "cell_type": "code",
      "source": [
        "str=input()\n",
        "words=str.split()\n",
        "rev_words=str[::-1]\n",
        "print(' '.join(rev_words))"
      ],
      "metadata": {
        "colab": {
          "base_uri": "https://localhost:8080/"
        },
        "id": "p0aqG6sLKP_T",
        "outputId": "3933a864-6774-4ca5-bdb8-a16f2abe94f8"
      },
      "execution_count": 27,
      "outputs": [
        {
          "output_type": "stream",
          "name": "stdout",
          "text": [
            "amili\n",
            "i l i m a\n"
          ]
        }
      ]
    }
  ]
}